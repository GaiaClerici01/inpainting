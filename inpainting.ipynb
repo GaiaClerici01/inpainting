{
  "cells": [
    {
      "cell_type": "markdown",
      "metadata": {
        "id": "E3r4iIy5PD4_"
      },
      "source": [
        "# Inpainting su CIFAR-10\n",
        "\n",
        "L'obiettivo di questo progetto è quello di costruire ed allenare una ree per inpainting su immagini del dataset CIFAR-10. \n",
        "\n",
        "l'inpainting è una tecnica di restauro per cui porzioni danneggiate, deteriorate o mancanti di una immagine sono rimepite cercando di ottenere una\n",
        "ricostruzione completa.\n",
        "\n",
        "Nel nostro caso, creiamo la porzione di immagine che deve essere riempita effettuando un crop su immagini di CIFAR-10 di un'area rettangolare di dimensione fissata.\n",
        "\n",
        "la rete deve essere allenata sul training set, e testata sul test set.\n",
        "Potete ricavare un validation set aggiuntivo a partire dal test set, se lo ritenete opportuno.\n",
        "\n",
        "la metrica ina base alla quale dovrete valutare la qualità della vostra ricostruzione è la distanza quadratica media (MSE)."
      ]
    },
    {
      "cell_type": "code",
      "execution_count": null,
      "metadata": {
        "id": "ZwLQl0kGWwbJ"
      },
      "outputs": [],
      "source": [
        "import tensorflow as tf\n",
        "import numpy as np\n",
        "import matplotlib.pyplot as plt"
      ]
    },
    {
      "cell_type": "code",
      "execution_count": null,
      "metadata": {
        "id": "nczjezDqXD4Q"
      },
      "outputs": [],
      "source": [
        "from tensorflow.keras import layers, models, metrics\n",
        "from tensorflow.keras.datasets import cifar10"
      ]
    },
    {
      "cell_type": "markdown",
      "metadata": {
        "id": "_tTZ5pBIREKu"
      },
      "source": [
        "Carichiamo il dataset e normalizziamolo."
      ]
    },
    {
      "cell_type": "code",
      "execution_count": null,
      "metadata": {
        "colab": {
          "base_uri": "https://localhost:8080/"
        },
        "id": "-pojWDC2Xca5",
        "outputId": "de8de980-ca42-44b4-8ab3-bef530d7f838"
      },
      "outputs": [
        {
          "name": "stdout",
          "output_type": "stream",
          "text": [
            "Downloading data from https://www.cs.toronto.edu/~kriz/cifar-10-python.tar.gz\n",
            "170498071/170498071 [==============================] - 4s 0us/step\n",
            "image range is 0, 255\n",
            "new image range is 0.0, 1.0\n"
          ]
        }
      ],
      "source": [
        "(x_train, y_train), (x_test, y_test) = cifar10.load_data()\n",
        "print(\"image range is {}, {}\".format(np.min(x_test,axis=(0,1,2,3)),np.max(x_test,axis=(0,1,2,3))))\n",
        "x_train = (x_train/255.).astype(np.float32)\n",
        "x_test = (x_test/255.).astype(np.float32)\n",
        "print(\"new image range is {}, {}\".format(np.min(x_test,axis=(0,1,2,3)),np.max(x_test,axis=(0,1,2,3))))"
      ]
    },
    {
      "cell_type": "markdown",
      "metadata": {
        "id": "34F_YSoxRNet"
      },
      "source": [
        "Visualizziamo qualche esempio"
      ]
    },
    {
      "cell_type": "code",
      "execution_count": null,
      "metadata": {
        "colab": {
          "base_uri": "https://localhost:8080/",
          "height": 266
        },
        "id": "PMHeUj9PXr02",
        "outputId": "e0c26826-7e2a-42b1-8c52-144f7bef9ace"
      },
      "outputs": [
        {
          "data": {
            "image/png": "[encoded data removed]",
            "text/plain": [
              "<Figure size 432x288 with 1 Axes>"
            ]
          },
          "metadata": {},
          "output_type": "display_data"
        }
      ],
      "source": [
        "plt.imshow(x_test[1])\n",
        "plt.show()"
      ]
    },
    {
      "cell_type": "markdown",
      "metadata": {
        "id": "s8lEb7qPYfNA"
      },
      "source": [
        "Adeso mascheriamo una parte dell'input. L'obiettivo del modello reta sarà la ricostruzione di questa parte mancante."
      ]
    },
    {
      "cell_type": "code",
      "execution_count": null,
      "metadata": {
        "id": "pMUI16TxYdbz"
      },
      "outputs": [],
      "source": [
        "def mask(X,coords):\n",
        "  x0,y0,x1,y1 = coords\n",
        "  X[:,x0:x1,y0:y1] = 0\n",
        "  return X\n",
        "\n",
        "masked_x_train = mask(np.copy(x_train),(2,16,30,30))\n",
        "masked_x_test = mask(np.copy(x_test),(2,16,30,30))"
      ]
    },
    {
      "cell_type": "code",
      "execution_count": null,
      "metadata": {
        "colab": {
          "base_uri": "https://localhost:8080/",
          "height": 266
        },
        "id": "Vk9gGjGIZ5aG",
        "outputId": "1f9f7886-4e42-4104-c308-bc2a966ca29a"
      },
      "outputs": [
        {
          "data": {
            "image/png": "[encoded data removed]",
            "text/plain": [
              "<Figure size 432x288 with 1 Axes>"
            ]
          },
          "metadata": {},
          "output_type": "display_data"
        }
      ],
      "source": [
        "plt.imshow(masked_x_test[1])\n",
        "plt.show()"
      ]
    },
    {
      "cell_type": "markdown",
      "metadata": {
        "id": "H1LA9tOFRr3q"
      },
      "source": [
        "# Approcci e valutazione\n",
        "\n",
        "La rete deve prendere in input l'immagine mascherata e riempire la parte mancante.\n",
        "\n",
        "Per l'output, potete seguire essenizialmente due approcci:\n",
        "*   restituire l'intera immagine\n",
        "*   restituire solo il crop mancante\n",
        "\n",
        "Nel primo caso, il mean square error deve essere valutato sul tutta l'immagine.\n",
        "Mel secondo caso potete limitarvi al calcolo sul crop, dato che per la parte restante l'errore sarà nullo.\n",
        "\n",
        "Se intendete seguire un approccio diverso, potete chiedere conferma della sua legittimità per email o tramite teams.\n",
        "\n",
        "\n"
      ]
    },
    {
      "cell_type": "markdown",
      "metadata": {
        "id": "ClTRv3Myikkg"
      },
      "source": [
        "# Cosa consegnare\n",
        "\n",
        "Dovete consegnare un singolo notebook che comprenda il codice, la storia del training, e la misurazione dell'errore (MSE) sul test set.\n",
        "\n",
        "Buon Lavoro!"
      ]
    },
    {
      "cell_type": "code",
      "execution_count": null,
      "metadata": {
        "colab": {
          "base_uri": "https://localhost:8080/"
        },
        "id": "xscBWR-n8Obq",
        "outputId": "0940ffb3-33db-425f-ff00-10c130549f93"
      },
      "outputs": [
        {
          "output_type": "stream",
          "name": "stdout",
          "text": [
            "image range is 0, 255\n",
            "new image range is 0.0, 1.0\n",
            "Model: \"model\"\n",
            "_________________________________________________________________\n",
            " Layer (type)                Output Shape              Param #   \n",
            "=================================================================\n",
            " input_1 (InputLayer)        [(None, 32, 32, 3)]       0         \n",
            "                                                                 \n",
            " conv2d (Conv2D)             (None, 32, 32, 64)        1792      \n",
            "                                                                 \n",
            " conv2d_1 (Conv2D)           (None, 32, 32, 128)       73856     \n",
            "                                                                 \n",
            " max_pooling2d (MaxPooling2D  (None, 16, 16, 128)      0         \n",
            " )                                                               \n",
            "                                                                 \n",
            " conv2d_2 (Conv2D)           (None, 16, 16, 128)       147584    \n",
            "                                                                 \n",
            " conv2d_3 (Conv2D)           (None, 16, 16, 256)       295168    \n",
            "                                                                 \n",
            " dense (Dense)               (None, 16, 16, 128)       32896     \n",
            "                                                                 \n",
            " conv2d_4 (Conv2D)           (None, 16, 16, 64)        73792     \n",
            "                                                                 \n",
            " max_pooling2d_1 (MaxPooling  (None, 8, 8, 64)         0         \n",
            " 2D)                                                             \n",
            "                                                                 \n",
            " conv2d_5 (Conv2D)           (None, 8, 8, 128)         73856     \n",
            "                                                                 \n",
            " up_sampling2d (UpSampling2D  (None, 32, 32, 128)      0         \n",
            " )                                                               \n",
            "                                                                 \n",
            " conv2d_6 (Conv2D)           (None, 32, 32, 128)       147584    \n",
            "                                                                 \n",
            " conv2d_7 (Conv2D)           (None, 32, 32, 64)        73792     \n",
            "                                                                 \n",
            " conv2d_8 (Conv2D)           (None, 32, 32, 128)       73856     \n",
            "                                                                 \n",
            " conv2d_9 (Conv2D)           (None, 32, 32, 128)       147584    \n",
            "                                                                 \n",
            " conv2d_11 (Conv2D)          (None, 32, 32, 3)         3459      \n",
            "                                                                 \n",
            "=================================================================\n",
            "Total params: 1,145,219\n",
            "Trainable params: 1,145,219\n",
            "Non-trainable params: 0\n",
            "_________________________________________________________________\n",
            "Epoch 1/30\n",
            "782/782 [==============================] - 53s 61ms/step - loss: 0.0162 - accuracy: 0.6799 - val_loss: 0.0112 - val_accuracy: 0.7665 - lr: 0.0010\n",
            "Epoch 2/30\n",
            "782/782 [==============================] - 46s 59ms/step - loss: 0.0107 - accuracy: 0.7737 - val_loss: 0.0103 - val_accuracy: 0.7928 - lr: 0.0010\n",
            "Epoch 3/30\n",
            "782/782 [==============================] - 46s 59ms/step - loss: 0.0100 - accuracy: 0.7801 - val_loss: 0.0099 - val_accuracy: 0.7854 - lr: 0.0010\n",
            "Epoch 4/30\n",
            "782/782 [==============================] - 46s 59ms/step - loss: 0.0096 - accuracy: 0.7874 - val_loss: 0.0097 - val_accuracy: 0.7933 - lr: 0.0010\n",
            "Epoch 5/30\n",
            "782/782 [==============================] - 46s 59ms/step - loss: 0.0094 - accuracy: 0.7916 - val_loss: 0.0093 - val_accuracy: 0.7876 - lr: 0.0010\n",
            "Epoch 6/30\n",
            "782/782 [==============================] - 46s 59ms/step - loss: 0.0092 - accuracy: 0.7953 - val_loss: 0.0091 - val_accuracy: 0.7948 - lr: 0.0010\n",
            "Epoch 7/30\n",
            "782/782 [==============================] - 46s 59ms/step - loss: 0.0091 - accuracy: 0.7970 - val_loss: 0.0092 - val_accuracy: 0.8054 - lr: 0.0010\n",
            "Epoch 8/30\n",
            "782/782 [==============================] - 46s 59ms/step - loss: 0.0090 - accuracy: 0.7975 - val_loss: 0.0090 - val_accuracy: 0.8101 - lr: 0.0010\n",
            "Epoch 9/30\n",
            "782/782 [==============================] - 46s 59ms/step - loss: 0.0089 - accuracy: 0.8008 - val_loss: 0.0089 - val_accuracy: 0.8147 - lr: 0.0010\n",
            "Epoch 10/30\n",
            "782/782 [==============================] - 46s 59ms/step - loss: 0.0088 - accuracy: 0.8020 - val_loss: 0.0091 - val_accuracy: 0.8066 - lr: 0.0010\n",
            "Epoch 11/30\n",
            "782/782 [==============================] - 46s 59ms/step - loss: 0.0087 - accuracy: 0.8046 - val_loss: 0.0090 - val_accuracy: 0.8151 - lr: 0.0010\n",
            "Epoch 12/30\n",
            "782/782 [==============================] - 46s 59ms/step - loss: 0.0086 - accuracy: 0.8047 - val_loss: 0.0092 - val_accuracy: 0.8087 - lr: 0.0010\n",
            "Epoch 13/30\n",
            "782/782 [==============================] - 46s 59ms/step - loss: 0.0079 - accuracy: 0.8282 - val_loss: 0.0084 - val_accuracy: 0.8285 - lr: 1.0000e-04\n",
            "Epoch 14/30\n",
            "782/782 [==============================] - 46s 59ms/step - loss: 0.0078 - accuracy: 0.8296 - val_loss: 0.0084 - val_accuracy: 0.8244 - lr: 1.0000e-04\n",
            "Epoch 15/30\n",
            "782/782 [==============================] - 46s 59ms/step - loss: 0.0077 - accuracy: 0.8298 - val_loss: 0.0084 - val_accuracy: 0.8259 - lr: 1.0000e-04\n",
            "Epoch 16/30\n",
            "782/782 [==============================] - 46s 59ms/step - loss: 0.0077 - accuracy: 0.8295 - val_loss: 0.0084 - val_accuracy: 0.8251 - lr: 1.0000e-04\n",
            "Epoch 17/30\n",
            "782/782 [==============================] - 46s 59ms/step - loss: 0.0075 - accuracy: 0.8313 - val_loss: 0.0083 - val_accuracy: 0.8332 - lr: 1.0000e-05\n",
            "Epoch 18/30\n",
            "782/782 [==============================] - 46s 59ms/step - loss: 0.0075 - accuracy: 0.8317 - val_loss: 0.0083 - val_accuracy: 0.8325 - lr: 1.0000e-05\n",
            "Epoch 19/30\n",
            "782/782 [==============================] - 46s 59ms/step - loss: 0.0075 - accuracy: 0.8319 - val_loss: 0.0083 - val_accuracy: 0.8316 - lr: 1.0000e-05\n",
            "Epoch 20/30\n",
            "782/782 [==============================] - 46s 59ms/step - loss: 0.0074 - accuracy: 0.8319 - val_loss: 0.0083 - val_accuracy: 0.8326 - lr: 1.0000e-06\n",
            "Epoch 21/30\n",
            "782/782 [==============================] - 46s 59ms/step - loss: 0.0074 - accuracy: 0.8320 - val_loss: 0.0083 - val_accuracy: 0.8324 - lr: 1.0000e-06\n",
            "Epoch 22/30\n",
            "782/782 [==============================] - 46s 59ms/step - loss: 0.0074 - accuracy: 0.8320 - val_loss: 0.0083 - val_accuracy: 0.8327 - lr: 1.0000e-06\n",
            "Epoch 23/30\n",
            "782/782 [==============================] - 46s 59ms/step - loss: 0.0074 - accuracy: 0.8321 - val_loss: 0.0083 - val_accuracy: 0.8326 - lr: 1.0000e-07\n"
          ]
        },
        {
          "output_type": "execute_result",
          "data": {
            "text/plain": [
              "<keras.callbacks.History at 0x7fb440090070>"
            ]
          },
          "metadata": {},
          "execution_count": 1
        }
      ],
      "source": [
        "import tensorflow as tf\n",
        "from tensorflow import keras\n",
        "import numpy as np\n",
        "import matplotlib.pyplot as plt\n",
        "\n",
        "from tensorflow.keras import layers, models, metrics\n",
        "from tensorflow.keras.datasets import cifar10\n",
        "from sklearn.metrics import mean_squared_error\n",
        "\n",
        "\n",
        "def mask(X, coords):\n",
        "  x0, y0, x1, y1 = coords\n",
        "  X[:, x0:x1, y0:y1] = 0\n",
        "  return X\n",
        "\n",
        "# Carica il dataset CIFAR-10\n",
        "(x_train, y_train), (x_test, y_test) = cifar10.load_data()\n",
        "print(\"image range is {}, {}\".format(np.min(x_test,axis=(0,1,2,3)),np.max(x_test,axis=(0,1,2,3))))\n",
        "x_train = (x_train/255.).astype(np.float32)\n",
        "x_test = (x_test/255.).astype(np.float32)\n",
        "print(\"new image range is {}, {}\".format(np.min(x_test,axis=(0,1,2,3)),np.max(x_test,axis=(0,1,2,3))))\n",
        "\n",
        "masked_x_test = mask(np.copy(x_test),(2,16,30,30))\n",
        "masked_x_train = mask(np.copy(x_train), (2, 16, 30, 30))\n",
        "\n",
        "inputs = layers.Input(shape=(32, 32, 3))\n",
        "\n",
        "# Encoder\n",
        "encode = layers.Conv2D(64, (3, 3), activation='swish', padding='same')(inputs)\n",
        "encode = layers.Conv2D(128, (3, 3), activation='LeakyReLU', padding='same')(encode)\n",
        "encode = layers.MaxPooling2D((2, 2))(encode)\n",
        "encode = layers.Conv2D(128, (3, 3),activation='LeakyReLU', padding='same')(encode)\n",
        "encode = layers.Conv2D(256, (3, 3), activation='LeakyReLU', padding='same')(encode)\n",
        "encode = layers.Dense(128, activation='LeakyReLU')(encode)\n",
        "encode = layers.Conv2D(64, (3, 3),activation='LeakyReLU', padding='same')(encode)\n",
        "encoded = layers.MaxPooling2D((2, 2))(encode)\n",
        "\n",
        "# Decoder\n",
        "decode = layers.Conv2D(128, (3, 3), activation='swish', padding='same')(encoded)\n",
        "decode = layers.UpSampling2D((4, 4))(decode)\n",
        "decode = layers.Conv2D(128, (3, 3), activation='LeakyReLU', padding='same')(decode)\n",
        "decode = layers.Conv2D(64, (3, 3), activation='LeakyReLU', padding='same')(decode)\n",
        "decode = layers.Conv2D(128, (3, 3), activation='LeakyReLU', padding='same')(decode)\n",
        "#decode = layers.UpSampling2D((2, 2))(decode)\n",
        "decode = layers.Conv2D(128, (3, 3), activation='LeakyReLU', padding='same')(decode)\n",
        "encode = layers.Conv2D(64, (3, 3),activation='LeakyReLU', padding='same')(encode)\n",
        "decode = layers.Conv2D(3, (3, 3), activation='sigmoid', padding='same')(decode)\n",
        "\n",
        "autoencoder = keras.Model(inputs, decode)\n",
        "autoencoder.compile(optimizer=  'adam', loss='mean_squared_error', metrics='accuracy')\n",
        "\n",
        "reduce_lr = tf.keras.callbacks.ReduceLROnPlateau(monitor='val_loss', factor=0.1, patience=3, min_lr=0.0000001)\n",
        "\n",
        "autoencoder.summary()\n",
        "early_stopping = tf.keras.callbacks.EarlyStopping(monitor='val_loss', patience=5)\n",
        "\n",
        "autoencoder.fit(masked_x_train, x_train, epochs=30, batch_size=64, validation_data=(masked_x_test, x_test), shuffle=True, callbacks=[early_stopping, reduce_lr])\n"
      ]
    },
    {
      "cell_type": "code",
      "execution_count": null,
      "metadata": {
        "colab": {
          "base_uri": "https://localhost:8080/"
        },
        "id": "PPEagH_2wIWt",
        "outputId": "1d664c3a-ed59-4f33-d271-2f9d04030569"
      },
      "outputs": [
        {
          "output_type": "stream",
          "name": "stdout",
          "text": [
            "313/313 [==============================] - 4s 13ms/step\n",
            "Mean Squared Error: 0.008345876\n"
          ]
        }
      ],
      "source": [
        "predictions = autoencoder.predict(masked_x_test)\n",
        "#Reshape dati su due dimensioni per usarli nell'MSE\n",
        "x_test_flat = x_test.reshape(-1)\n",
        "predictions_flat = predictions.reshape(-1)\n",
        "mse = mean_squared_error(x_test_flat, predictions_flat)\n",
        "print(\"Mean Squared Error:\", mse)"
      ]
    },
    {
      "cell_type": "code",
      "execution_count": null,
      "metadata": {
        "colab": {
          "base_uri": "https://localhost:8080/",
          "height": 764
        },
        "id": "NrPegLspvTsT",
        "outputId": "95e65a9e-65b4-42e1-d4e8-84d185e78126"
      },
      "outputs": [
        {
          "output_type": "display_data",
          "data": {
            "text/plain": [
              "<Figure size 432x288 with 1 Axes>"
            ],
            "image/png": "[encoded data removed]"
          },
          "metadata": {
            "needs_background": "light"
          }
        },
        {
          "output_type": "display_data",
          "data": {
            "text/plain": [
              "<Figure size 432x288 with 1 Axes>"
            ],
            "image/png": "[encoded data removed]"
          },
          "metadata": {
            "needs_background": "light"
          }
        },
        {
          "output_type": "display_data",
          "data": {
            "text/plain": [
              "<Figure size 432x288 with 1 Axes>"
            ],
            "image/png": "[encoded data removed]"
          },
          "metadata": {
            "needs_background": "light"
          }
        }
      ],
      "source": [
        "plt.imshow(x_test[1])\n",
        "plt.show()\n",
        "plt.imshow(masked_x_test[1])\n",
        "plt.show()\n",
        "plt.imshow(predictions[1])\n",
        "plt.show()"
      ]
    }
  ],
  "metadata": {
    "accelerator": "GPU",
    "colab": {
      "provenance": []
    },
    "gpuClass": "standard",
    "kernelspec": {
      "display_name": "Python 3",
      "name": "python3"
    },
    "language_info": {
      "name": "python"
    }
  },
  "nbformat": 4,
  "nbformat_minor": 0
}